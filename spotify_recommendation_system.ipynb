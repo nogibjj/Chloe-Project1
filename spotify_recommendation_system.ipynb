{
 "cells": [
  {
   "cell_type": "code",
   "execution_count": 2,
   "metadata": {},
   "outputs": [
    {
     "name": "stderr",
     "output_type": "stream",
     "text": [
      "WARNING:root:'PYARROW_IGNORE_TIMEZONE' environment variable was not set. It is required to set this environment variable to '1' in both driver and executor sides if you use pyarrow>=2.0.0. pandas-on-Spark will set it for you but it does not work if there is a Spark context already launched.\n"
     ]
    }
   ],
   "source": [
    "import pandas as pd\n",
    "import numpy as np\n",
    "import pyspark.pandas as ps\n",
    "from pyspark.sql import SparkSession"
   ]
  },
  {
   "cell_type": "code",
   "execution_count": 9,
   "metadata": {},
   "outputs": [
    {
     "name": "stdout",
     "output_type": "stream",
     "text": [
      "22/09/11 19:29:40 WARN Utils: Your hostname, codespaces-4f50a9 resolves to a loopback address: 127.0.0.1; using 172.16.5.4 instead (on interface eth0)\n",
      "22/09/11 19:29:40 WARN Utils: Set SPARK_LOCAL_IP if you need to bind to another address\n"
     ]
    },
    {
     "name": "stderr",
     "output_type": "stream",
     "text": [
      "Setting default log level to \"WARN\".\n",
      "To adjust logging level use sc.setLogLevel(newLevel). For SparkR, use setLogLevel(newLevel).\n"
     ]
    },
    {
     "name": "stdout",
     "output_type": "stream",
     "text": [
      "22/09/11 19:29:41 WARN NativeCodeLoader: Unable to load native-hadoop library for your platform... using builtin-java classes where applicable\n"
     ]
    }
   ],
   "source": [
    "spark = SparkSession.builder.getOrCreate()"
   ]
  },
  {
   "cell_type": "code",
   "execution_count": 15,
   "metadata": {},
   "outputs": [],
   "source": [
    "df = spark.read.csv(\"data.csv\",header=True)"
   ]
  },
  {
   "cell_type": "code",
   "execution_count": 16,
   "metadata": {},
   "outputs": [
    {
     "name": "stdout",
     "output_type": "stream",
     "text": [
      "+------------+--------------------+------------------+-----------+-------+--------+--------------------+----------------+---+--------+-------------------+----+--------------------+----------+------------+--------------------+-----------------+-------------------+----+\n",
      "|acousticness|             artists|      danceability|duration_ms| energy|explicit|                  id|instrumentalness|key|liveness|           loudness|mode|                name|popularity|release_date|         speechiness|            tempo|            valence|year|\n",
      "+------------+--------------------+------------------+-----------+-------+--------+--------------------+----------------+---+--------+-------------------+----+--------------------+----------+------------+--------------------+-----------------+-------------------+----+\n",
      "|       0.995| ['Carl Woitschach']|             0.708|     158648|  0.195|       0|6KbQ3uYMLKb5jDxLF...|           0.563| 10|   0.151|            -12.428|   1|Singende Bataillo...|         0|        1928|              0.0506|          118.469|              0.779|1928|\n",
      "|       0.994|['Robert Schumann...|             0.379|     282133| 0.0135|       0|6KuQTIu1KoTTkLXKr...|           0.901|  8|  0.0763|            -28.454|   1|Fantasiestücke, O...|         0|        1928|              0.0462|83.97200000000002|             0.0767|1928|\n",
      "|       0.604|['Seweryn Goszczy...|0.7490000000000001|     104300|   0.22|       0|6L63VW0PibdM1HDSB...|             0.0|  5|   0.119|            -19.924|   0|Chapter 1.18 - Za...|         0|        1928|               0.929|          107.177|               0.88|1928|\n",
      "|       0.995|['Francisco Canaro']|0.7809999999999999|     180760|   0.13|       0|6M94FkXd15sOAOQYR...|           0.887|  1|   0.111|-14.734000000000002|   0|Bebamos Juntos - ...|         0|  1928-09-25|              0.0926|          108.003|               0.72|1928|\n",
      "|        0.99|['Frédéric Chopin...|              0.21|     687733|  0.204|       0|6N6tiFZ9vLTSOIxkj...|           0.908| 11|   0.098|            -16.829|   1|Polonaise-Fantais...|         1|        1928|              0.0424|           62.149|             0.0693|1928|\n",
      "|       0.995|['Felix Mendelsso...|             0.424|     352600|   0.12|       0|6NxAf7M8DNHOBTmEd...|           0.911|  6|  0.0915|            -19.242|   0|Scherzo a capricc...|         0|        1928|              0.0593|           63.521|              0.266|1928|\n",
      "|       0.956|['Franz Liszt', '...|             0.444|     136627|  0.197|       0|6O0puPuyrxPjDTHDU...|           0.435| 11|  0.0744|            -17.226|   1|Valse oubliée No....|         0|        1928|                0.04|           80.495|              0.305|1928|\n",
      "|       0.988| ['Carl Woitschach']|             0.555|     153967|  0.421|       0|6OJjveoYwJdIt76y0...|           0.836|  1|   0.105|             -9.878|   1| Per aspera ad astra|         0|        1928|              0.0474|           123.31|              0.857|1928|\n",
      "|       0.995|['Francisco Canar...|0.6829999999999999|     162493|  0.207|       0|6OaJ8Bh7lsBeYoBmw...|           0.206|  9|   0.337|             -9.801|   0|Moneda Corriente ...|         0|  1928-10-03|               0.127|          119.833|              0.493|1928|\n",
      "|       0.846|['Seweryn Goszczy...|             0.674|     111600|  0.205|       0|6PrZexNb16cabXR8Q...|             0.0|  9|    0.17|            -20.119|   1|Chapter 1.3 - Zam...|         0|        1928|               0.954|           81.249|              0.759|1928|\n",
      "|       0.994|['Sergei Rachmani...|             0.376|     590293| 0.0719|       0|6QBInZBkQNIQYU9gG...|           0.883| 10|   0.196|            -21.849|   0|Piano Sonata No. ...|         0|        1928|              0.0352|           141.39|             0.0393|1928|\n",
      "|       0.989|['Frédéric Chopin...|              0.17|      85133| 0.0823|       0|6QIONtzbQCbnmWNwn...|           0.911| 10|  0.0962|            -30.107|   0|Piano Sonata No. ...|         1|        1928|              0.0317|85.98899999999998|0.34600000000000003|1928|\n",
      "|        0.99|['Samuel Barber',...|             0.359|     338333| 0.0435|       0|6QgdUySTRGVkNo3Kw...|           0.899|  7|   0.109|            -20.858|   1|Piano Sonata in E...|         0|        1928|              0.0424|           96.645|              0.042|1928|\n",
      "|       0.992|['Robert Schumann...|             0.311|     167333| 0.0107|       0|6RvSNoCPBZeTR2LyG...|           0.883|  5|  0.0954|            -35.648|   1|Nachtstücke, Op. ...|         0|        1928|              0.0556|            78.98|0.21600000000000005|1928|\n",
      "|       0.977|['Ludwig van Beet...|             0.335|     276563|  0.105|       0|6Rwn56jcC0TdGQzbR...|            0.84|  5|   0.231|            -16.049|   0|Symphony No. 5 in...|         0|  1928-01-01|              0.0716|           80.204|              0.406|1928|\n",
      "|       0.991|['George Butterwo...|             0.319|     184840|0.00593|       0|6Sdpmree8xpGWaedA...|        6.35e-05|  7|  0.0691|            -25.789|   0|A Shropshire Lad:...|         0|        1928|               0.051|           79.831|0.16899999999999998|1928|\n",
      "|       0.996|['Alexander Scria...|             0.319|     326067|  0.155|       0|6T0mZB7p3qzOifdXZ...|           0.917|  4|   0.126|            -18.728|   1|Sonata No. 3, Op....|         0|        1928|0.036000000000000004|           66.947|             0.0488|1928|\n",
      "|       0.994|['Francisco Canar...|             0.787|     167107|  0.156|       0|6TFuAErGpJ9FpxQQ1...|           0.659|  4|    0.11|            -14.056|   0|Invocación al Tan...|         0|  1928-09-16|               0.157|          117.167| 0.8490000000000001|1928|\n",
      "|       0.993|['Thomas Arne', '...|             0.569|     122533|   0.15|       0|6UUfiNT82MWBNnmsE...|          0.0015|  5|   0.106|            -15.238|   1| Where the Bee Sucks|         0|        1928|              0.0474|            76.93|              0.596|1928|\n",
      "|       0.992|['Francisco Canaro']|             0.763|     173707|  0.132|       0|6Ukl7n0q3Cjd0Og8u...|          0.0693|  4|   0.112|            -13.002|   1|Tendrás Que Llora...|         0|  1928-09-17|              0.0886|          111.679| 0.8320000000000001|1928|\n",
      "+------------+--------------------+------------------+-----------+-------+--------+--------------------+----------------+---+--------+-------------------+----+--------------------+----------+------------+--------------------+-----------------+-------------------+----+\n",
      "only showing top 20 rows\n",
      "\n",
      "root\n",
      " |-- acousticness: string (nullable = true)\n",
      " |-- artists: string (nullable = true)\n",
      " |-- danceability: string (nullable = true)\n",
      " |-- duration_ms: string (nullable = true)\n",
      " |-- energy: string (nullable = true)\n",
      " |-- explicit: string (nullable = true)\n",
      " |-- id: string (nullable = true)\n",
      " |-- instrumentalness: string (nullable = true)\n",
      " |-- key: string (nullable = true)\n",
      " |-- liveness: string (nullable = true)\n",
      " |-- loudness: string (nullable = true)\n",
      " |-- mode: string (nullable = true)\n",
      " |-- name: string (nullable = true)\n",
      " |-- popularity: string (nullable = true)\n",
      " |-- release_date: string (nullable = true)\n",
      " |-- speechiness: string (nullable = true)\n",
      " |-- tempo: string (nullable = true)\n",
      " |-- valence: string (nullable = true)\n",
      " |-- year: string (nullable = true)\n",
      "\n"
     ]
    }
   ],
   "source": [
    "df.show()\n",
    "df.printSchema()"
   ]
  },
  {
   "cell_type": "code",
   "execution_count": 17,
   "metadata": {},
   "outputs": [
    {
     "name": "stdout",
     "output_type": "stream",
     "text": [
      "+------------+-------------------+------------+-----------+------+--------+--------------------+----------------+---+--------+--------+----+--------------------+----------+------------+-----------+-------+-------+----+\n",
      "|acousticness|            artists|danceability|duration_ms|energy|explicit|                  id|instrumentalness|key|liveness|loudness|mode|                name|popularity|release_date|speechiness|  tempo|valence|year|\n",
      "+------------+-------------------+------------+-----------+------+--------+--------------------+----------------+---+--------+--------+----+--------------------+----------+------------+-----------+-------+-------+----+\n",
      "|       0.995|['Carl Woitschach']|       0.708|     158648| 0.195|       0|6KbQ3uYMLKb5jDxLF...|           0.563| 10|   0.151| -12.428|   1|Singende Bataillo...|         0|        1928|     0.0506|118.469|  0.779|1928|\n",
      "+------------+-------------------+------------+-----------+------+--------+--------------------+----------------+---+--------+--------+----+--------------------+----------+------------+-----------+-------+-------+----+\n",
      "only showing top 1 row\n",
      "\n"
     ]
    }
   ],
   "source": [
    "df.show(1)"
   ]
  },
  {
   "cell_type": "code",
   "execution_count": null,
   "metadata": {},
   "outputs": [],
   "source": []
  },
  {
   "cell_type": "code",
   "execution_count": 19,
   "metadata": {},
   "outputs": [
    {
     "data": {
      "text/plain": [
       "['acousticness',\n",
       " 'artists',\n",
       " 'danceability',\n",
       " 'duration_ms',\n",
       " 'energy',\n",
       " 'explicit',\n",
       " 'id',\n",
       " 'instrumentalness',\n",
       " 'key',\n",
       " 'liveness',\n",
       " 'loudness',\n",
       " 'mode',\n",
       " 'name',\n",
       " 'popularity',\n",
       " 'release_date',\n",
       " 'speechiness',\n",
       " 'tempo',\n",
       " 'valence',\n",
       " 'year']"
      ]
     },
     "execution_count": 19,
     "metadata": {},
     "output_type": "execute_result"
    }
   ],
   "source": [
    "df.columns"
   ]
  },
  {
   "cell_type": "code",
   "execution_count": 20,
   "metadata": {},
   "outputs": [
    {
     "name": "stderr",
     "output_type": "stream",
     "text": [
      "                                                                                \r"
     ]
    },
    {
     "name": "stdout",
     "output_type": "stream",
     "text": [
      "+-------+-------------------+--------------------+--------------------+--------------------+--------------------+--------------------+--------------------+--------------------+------------------+--------------------+-------------------+------------------+----------------------------+--------------------+--------------------+--------------------+--------------------+--------------------+--------------------+\n",
      "|summary|       acousticness|             artists|        danceability|         duration_ms|              energy|            explicit|                  id|    instrumentalness|               key|            liveness|           loudness|              mode|                        name|          popularity|        release_date|         speechiness|               tempo|             valence|                year|\n",
      "+-------+-------------------+--------------------+--------------------+--------------------+--------------------+--------------------+--------------------+--------------------+------------------+--------------------+-------------------+------------------+----------------------------+--------------------+--------------------+--------------------+--------------------+--------------------+--------------------+\n",
      "|  count|             169909|              169909|              169909|              169909|              169909|              169909|              169909|              169909|            169909|              169909|             169909|            169909|                      169909|              169909|              169909|              169909|              169909|              169909|              169909|\n",
      "|   mean|  0.493213976149875|                null|  0.5383963718512802|    230836.681679296|   563.0004471781228|  161.00616847439068|  15120.043013350787|   34.66554720340806| 23.39066952764619|  3.5915371043060698|-11.317750214006457| 7.410989073704525|                    Infinity|  31.693036943732775|  1928.5917610786885|   5.529730555417152|   118.4264933720031|   5.467456964884345|   1962.211872818315|\n",
      "| stddev|0.37662706233783233|                null| 0.17516340789732873|  121598.37798902883|  13873.071688291346|   6951.694271355481|   63446.14364146963|  2947.0441377717502|2364.5184723831794|   983.4890494089746|  5.698856397377892|1871.4111004142774|                         NaN|  21.544917768361064|   261.3359852321662|  102.68936018476819|   69.04922087046117|  1308.4772282000247|  173.38476129817892|\n",
      "|    min|                0.0|\"[\"\"'In The Heigh...| \"\"Kamehameha Sch...| \"\"'Legally Blond...| \"\"Lidija Kaz'mina\"\"| \"\"Bobby D'Ambros...| \"\"Orchestra Sinf...| 'Benjamin Schrader'|    'Lewis Cleale'| 'Jason Michael S...|   'David Baxter']\"| 'Martina McBride'|               'Eric Church'| \"\"Cool\"\" (Allegr...| \"\"L'amour est un...| \"\"Venezianisches...|    'José Feliciano'| 'José Luis Rodrí...|              Alcade|\n",
      "|    max|              9e-05|            ['黑豹']|               0.988|               99997|               97800|               82547|7zzuPsjj9L3M7ikqG...|               9e-06|             95361|            9.53e-06|                  9|                 9|화려하지 않은 고백 Confes...|You Turned The Ta...|  Whipped into Shape|          You Did It|When Your Lover H...|        What A Woman|Trashwang (feat. ...|\n",
      "+-------+-------------------+--------------------+--------------------+--------------------+--------------------+--------------------+--------------------+--------------------+------------------+--------------------+-------------------+------------------+----------------------------+--------------------+--------------------+--------------------+--------------------+--------------------+--------------------+\n",
      "\n"
     ]
    }
   ],
   "source": [
    "df.describe().show()"
   ]
  },
  {
   "cell_type": "code",
   "execution_count": 23,
   "metadata": {},
   "outputs": [],
   "source": [
    "import numpy as np"
   ]
  },
  {
   "cell_type": "code",
   "execution_count": 24,
   "metadata": {},
   "outputs": [
    {
     "ename": "ConnectionRefusedError",
     "evalue": "[Errno 111] Connection refused",
     "output_type": "error",
     "traceback": [
      "\u001b[0;31m---------------------------------------------------------------------------\u001b[0m",
      "\u001b[0;31mConnectionRefusedError\u001b[0m                    Traceback (most recent call last)",
      "Cell \u001b[0;32mIn [24], line 2\u001b[0m\n\u001b[1;32m      1\u001b[0m \u001b[38;5;28;01mfrom\u001b[39;00m \u001b[38;5;21;01mpyspark\u001b[39;00m\u001b[38;5;21;01m.\u001b[39;00m\u001b[38;5;21;01msql\u001b[39;00m\u001b[38;5;21;01m.\u001b[39;00m\u001b[38;5;21;01mfunctions\u001b[39;00m \u001b[38;5;28;01mimport\u001b[39;00m col,isnan, when, count\n\u001b[0;32m----> 2\u001b[0m df\u001b[38;5;241m.\u001b[39mselect([count(when(isnan(c) \u001b[38;5;241m|\u001b[39m col(c)\u001b[38;5;241m.\u001b[39misNull(), c))\u001b[38;5;241m.\u001b[39malias(c) \u001b[38;5;28;01mfor\u001b[39;00m c \u001b[38;5;129;01min\u001b[39;00m df\u001b[38;5;241m.\u001b[39mcolumns]\n\u001b[1;32m      3\u001b[0m    )\u001b[38;5;241m.\u001b[39mshow()\n",
      "Cell \u001b[0;32mIn [24], line 2\u001b[0m, in \u001b[0;36m<listcomp>\u001b[0;34m(.0)\u001b[0m\n\u001b[1;32m      1\u001b[0m \u001b[38;5;28;01mfrom\u001b[39;00m \u001b[38;5;21;01mpyspark\u001b[39;00m\u001b[38;5;21;01m.\u001b[39;00m\u001b[38;5;21;01msql\u001b[39;00m\u001b[38;5;21;01m.\u001b[39;00m\u001b[38;5;21;01mfunctions\u001b[39;00m \u001b[38;5;28;01mimport\u001b[39;00m col,isnan, when, count\n\u001b[0;32m----> 2\u001b[0m df\u001b[38;5;241m.\u001b[39mselect([count(when(\u001b[43misnan\u001b[49m\u001b[43m(\u001b[49m\u001b[43mc\u001b[49m\u001b[43m)\u001b[49m \u001b[38;5;241m|\u001b[39m col(c)\u001b[38;5;241m.\u001b[39misNull(), c))\u001b[38;5;241m.\u001b[39malias(c) \u001b[38;5;28;01mfor\u001b[39;00m c \u001b[38;5;129;01min\u001b[39;00m df\u001b[38;5;241m.\u001b[39mcolumns]\n\u001b[1;32m      3\u001b[0m    )\u001b[38;5;241m.\u001b[39mshow()\n",
      "File \u001b[0;32m~/.venv/lib/python3.10/site-packages/pyspark/sql/functions.py:1312\u001b[0m, in \u001b[0;36misnan\u001b[0;34m(col)\u001b[0m\n\u001b[1;32m   1301\u001b[0m \u001b[39mdef\u001b[39;00m \u001b[39misnan\u001b[39m(col: \u001b[39m\"\u001b[39m\u001b[39mColumnOrName\u001b[39m\u001b[39m\"\u001b[39m) \u001b[39m-\u001b[39m\u001b[39m>\u001b[39m Column:\n\u001b[1;32m   1302\u001b[0m     \u001b[39m\"\"\"An expression that returns true iff the column is NaN.\u001b[39;00m\n\u001b[1;32m   1303\u001b[0m \n\u001b[1;32m   1304\u001b[0m \u001b[39m    .. versionadded:: 1.6.0\u001b[39;00m\n\u001b[0;32m   (...)\u001b[0m\n\u001b[1;32m   1310\u001b[0m \u001b[39m    [Row(r1=False, r2=False), Row(r1=True, r2=True)]\u001b[39;00m\n\u001b[1;32m   1311\u001b[0m \u001b[39m    \"\"\"\u001b[39;00m\n\u001b[0;32m-> 1312\u001b[0m     \u001b[39mreturn\u001b[39;00m _invoke_function_over_columns(\u001b[39m\"\u001b[39;49m\u001b[39misnan\u001b[39;49m\u001b[39m\"\u001b[39;49m, col)\n",
      "File \u001b[0;32m~/.venv/lib/python3.10/site-packages/pyspark/sql/functions.py:93\u001b[0m, in \u001b[0;36m_invoke_function_over_columns\u001b[0;34m(name, *cols)\u001b[0m\n\u001b[1;32m     88\u001b[0m \u001b[39mdef\u001b[39;00m \u001b[39m_invoke_function_over_columns\u001b[39m(name: \u001b[39mstr\u001b[39m, \u001b[39m*\u001b[39mcols: \u001b[39m\"\u001b[39m\u001b[39mColumnOrName\u001b[39m\u001b[39m\"\u001b[39m) \u001b[39m-\u001b[39m\u001b[39m>\u001b[39m Column:\n\u001b[1;32m     89\u001b[0m     \u001b[39m\"\"\"\u001b[39;00m\n\u001b[1;32m     90\u001b[0m \u001b[39m    Invokes n-ary JVM function identified by name\u001b[39;00m\n\u001b[1;32m     91\u001b[0m \u001b[39m    and wraps the result with :class:`~pyspark.sql.Column`.\u001b[39;00m\n\u001b[1;32m     92\u001b[0m \u001b[39m    \"\"\"\u001b[39;00m\n\u001b[0;32m---> 93\u001b[0m     \u001b[39mreturn\u001b[39;00m _invoke_function(name, \u001b[39m*\u001b[39m(_to_java_column(col) \u001b[39mfor\u001b[39;00m col \u001b[39min\u001b[39;00m cols))\n",
      "File \u001b[0;32m~/.venv/lib/python3.10/site-packages/pyspark/sql/functions.py:93\u001b[0m, in \u001b[0;36m<genexpr>\u001b[0;34m(.0)\u001b[0m\n\u001b[1;32m     88\u001b[0m \u001b[39mdef\u001b[39;00m \u001b[39m_invoke_function_over_columns\u001b[39m(name: \u001b[39mstr\u001b[39m, \u001b[39m*\u001b[39mcols: \u001b[39m\"\u001b[39m\u001b[39mColumnOrName\u001b[39m\u001b[39m\"\u001b[39m) \u001b[39m-\u001b[39m\u001b[39m>\u001b[39m Column:\n\u001b[1;32m     89\u001b[0m     \u001b[39m\"\"\"\u001b[39;00m\n\u001b[1;32m     90\u001b[0m \u001b[39m    Invokes n-ary JVM function identified by name\u001b[39;00m\n\u001b[1;32m     91\u001b[0m \u001b[39m    and wraps the result with :class:`~pyspark.sql.Column`.\u001b[39;00m\n\u001b[1;32m     92\u001b[0m \u001b[39m    \"\"\"\u001b[39;00m\n\u001b[0;32m---> 93\u001b[0m     \u001b[39mreturn\u001b[39;00m _invoke_function(name, \u001b[39m*\u001b[39m(_to_java_column(col) \u001b[39mfor\u001b[39;00m col \u001b[39min\u001b[39;00m cols))\n",
      "File \u001b[0;32m~/.venv/lib/python3.10/site-packages/pyspark/sql/column.py:63\u001b[0m, in \u001b[0;36m_to_java_column\u001b[0;34m(col)\u001b[0m\n\u001b[1;32m     61\u001b[0m     jcol \u001b[39m=\u001b[39m col\u001b[39m.\u001b[39m_jc\n\u001b[1;32m     62\u001b[0m \u001b[39melif\u001b[39;00m \u001b[39misinstance\u001b[39m(col, \u001b[39mstr\u001b[39m):\n\u001b[0;32m---> 63\u001b[0m     jcol \u001b[39m=\u001b[39m _create_column_from_name(col)\n\u001b[1;32m     64\u001b[0m \u001b[39melse\u001b[39;00m:\n\u001b[1;32m     65\u001b[0m     \u001b[39mraise\u001b[39;00m \u001b[39mTypeError\u001b[39;00m(\n\u001b[1;32m     66\u001b[0m         \u001b[39m\"\u001b[39m\u001b[39mInvalid argument, not a string or column: \u001b[39m\u001b[39m\"\u001b[39m\n\u001b[1;32m     67\u001b[0m         \u001b[39m\"\u001b[39m\u001b[39m{0}\u001b[39;00m\u001b[39m of type \u001b[39m\u001b[39m{1}\u001b[39;00m\u001b[39m. \u001b[39m\u001b[39m\"\u001b[39m\n\u001b[1;32m     68\u001b[0m         \u001b[39m\"\u001b[39m\u001b[39mFor column literals, use \u001b[39m\u001b[39m'\u001b[39m\u001b[39mlit\u001b[39m\u001b[39m'\u001b[39m\u001b[39m, \u001b[39m\u001b[39m'\u001b[39m\u001b[39marray\u001b[39m\u001b[39m'\u001b[39m\u001b[39m, \u001b[39m\u001b[39m'\u001b[39m\u001b[39mstruct\u001b[39m\u001b[39m'\u001b[39m\u001b[39m or \u001b[39m\u001b[39m'\u001b[39m\u001b[39mcreate_map\u001b[39m\u001b[39m'\u001b[39m\u001b[39m \u001b[39m\u001b[39m\"\u001b[39m\n\u001b[1;32m     69\u001b[0m         \u001b[39m\"\u001b[39m\u001b[39mfunction.\u001b[39m\u001b[39m\"\u001b[39m\u001b[39m.\u001b[39mformat(col, \u001b[39mtype\u001b[39m(col))\n\u001b[1;32m     70\u001b[0m     )\n",
      "File \u001b[0;32m~/.venv/lib/python3.10/site-packages/pyspark/sql/column.py:56\u001b[0m, in \u001b[0;36m_create_column_from_name\u001b[0;34m(name)\u001b[0m\n\u001b[1;32m     54\u001b[0m sc \u001b[39m=\u001b[39m SparkContext\u001b[39m.\u001b[39m_active_spark_context\n\u001b[1;32m     55\u001b[0m \u001b[39massert\u001b[39;00m sc \u001b[39mis\u001b[39;00m \u001b[39mnot\u001b[39;00m \u001b[39mNone\u001b[39;00m \u001b[39mand\u001b[39;00m sc\u001b[39m.\u001b[39m_jvm \u001b[39mis\u001b[39;00m \u001b[39mnot\u001b[39;00m \u001b[39mNone\u001b[39;00m\n\u001b[0;32m---> 56\u001b[0m \u001b[39mreturn\u001b[39;00m sc\u001b[39m.\u001b[39;49m_jvm\u001b[39m.\u001b[39;49mfunctions\u001b[39m.\u001b[39mcol(name)\n",
      "File \u001b[0;32m~/.venv/lib/python3.10/site-packages/py4j/java_gateway.py:1709\u001b[0m, in \u001b[0;36mJVMView.__getattr__\u001b[0;34m(self, name)\u001b[0m\n\u001b[1;32m   1706\u001b[0m \u001b[39mif\u001b[39;00m name \u001b[39m==\u001b[39m UserHelpAutoCompletion\u001b[39m.\u001b[39mKEY:\n\u001b[1;32m   1707\u001b[0m     \u001b[39mreturn\u001b[39;00m UserHelpAutoCompletion()\n\u001b[0;32m-> 1709\u001b[0m answer \u001b[39m=\u001b[39m \u001b[39mself\u001b[39;49m\u001b[39m.\u001b[39;49m_gateway_client\u001b[39m.\u001b[39;49msend_command(\n\u001b[1;32m   1710\u001b[0m     proto\u001b[39m.\u001b[39;49mREFLECTION_COMMAND_NAME \u001b[39m+\u001b[39;49m\n\u001b[1;32m   1711\u001b[0m     proto\u001b[39m.\u001b[39;49mREFL_GET_UNKNOWN_SUB_COMMAND_NAME \u001b[39m+\u001b[39;49m name \u001b[39m+\u001b[39;49m \u001b[39m\"\u001b[39;49m\u001b[39m\\n\u001b[39;49;00m\u001b[39m\"\u001b[39;49m \u001b[39m+\u001b[39;49m \u001b[39mself\u001b[39;49m\u001b[39m.\u001b[39;49m_id \u001b[39m+\u001b[39;49m\n\u001b[1;32m   1712\u001b[0m     \u001b[39m\"\u001b[39;49m\u001b[39m\\n\u001b[39;49;00m\u001b[39m\"\u001b[39;49m \u001b[39m+\u001b[39;49m proto\u001b[39m.\u001b[39;49mEND_COMMAND_PART)\n\u001b[1;32m   1713\u001b[0m \u001b[39mif\u001b[39;00m answer \u001b[39m==\u001b[39m proto\u001b[39m.\u001b[39mSUCCESS_PACKAGE:\n\u001b[1;32m   1714\u001b[0m     \u001b[39mreturn\u001b[39;00m JavaPackage(name, \u001b[39mself\u001b[39m\u001b[39m.\u001b[39m_gateway_client, jvm_id\u001b[39m=\u001b[39m\u001b[39mself\u001b[39m\u001b[39m.\u001b[39m_id)\n",
      "File \u001b[0;32m~/.venv/lib/python3.10/site-packages/py4j/java_gateway.py:1036\u001b[0m, in \u001b[0;36mGatewayClient.send_command\u001b[0;34m(self, command, retry, binary)\u001b[0m\n\u001b[1;32m   1015\u001b[0m \u001b[39mdef\u001b[39;00m \u001b[39msend_command\u001b[39m(\u001b[39mself\u001b[39m, command, retry\u001b[39m=\u001b[39m\u001b[39mTrue\u001b[39;00m, binary\u001b[39m=\u001b[39m\u001b[39mFalse\u001b[39;00m):\n\u001b[1;32m   1016\u001b[0m     \u001b[39m\"\"\"Sends a command to the JVM. This method is not intended to be\u001b[39;00m\n\u001b[1;32m   1017\u001b[0m \u001b[39m       called directly by Py4J users. It is usually called by\u001b[39;00m\n\u001b[1;32m   1018\u001b[0m \u001b[39m       :class:`JavaMember` instances.\u001b[39;00m\n\u001b[0;32m   (...)\u001b[0m\n\u001b[1;32m   1034\u001b[0m \u001b[39m     if `binary` is `True`.\u001b[39;00m\n\u001b[1;32m   1035\u001b[0m \u001b[39m    \"\"\"\u001b[39;00m\n\u001b[0;32m-> 1036\u001b[0m     connection \u001b[39m=\u001b[39m \u001b[39mself\u001b[39;49m\u001b[39m.\u001b[39;49m_get_connection()\n\u001b[1;32m   1037\u001b[0m     \u001b[39mtry\u001b[39;00m:\n\u001b[1;32m   1038\u001b[0m         response \u001b[39m=\u001b[39m connection\u001b[39m.\u001b[39msend_command(command)\n",
      "File \u001b[0;32m~/.venv/lib/python3.10/site-packages/py4j/clientserver.py:284\u001b[0m, in \u001b[0;36mJavaClient._get_connection\u001b[0;34m(self)\u001b[0m\n\u001b[1;32m    281\u001b[0m     \u001b[39mpass\u001b[39;00m\n\u001b[1;32m    283\u001b[0m \u001b[39mif\u001b[39;00m connection \u001b[39mis\u001b[39;00m \u001b[39mNone\u001b[39;00m \u001b[39mor\u001b[39;00m connection\u001b[39m.\u001b[39msocket \u001b[39mis\u001b[39;00m \u001b[39mNone\u001b[39;00m:\n\u001b[0;32m--> 284\u001b[0m     connection \u001b[39m=\u001b[39m \u001b[39mself\u001b[39;49m\u001b[39m.\u001b[39;49m_create_new_connection()\n\u001b[1;32m    285\u001b[0m \u001b[39mreturn\u001b[39;00m connection\n",
      "File \u001b[0;32m~/.venv/lib/python3.10/site-packages/py4j/clientserver.py:291\u001b[0m, in \u001b[0;36mJavaClient._create_new_connection\u001b[0;34m(self)\u001b[0m\n\u001b[1;32m    287\u001b[0m \u001b[39mdef\u001b[39;00m \u001b[39m_create_new_connection\u001b[39m(\u001b[39mself\u001b[39m):\n\u001b[1;32m    288\u001b[0m     connection \u001b[39m=\u001b[39m ClientServerConnection(\n\u001b[1;32m    289\u001b[0m         \u001b[39mself\u001b[39m\u001b[39m.\u001b[39mjava_parameters, \u001b[39mself\u001b[39m\u001b[39m.\u001b[39mpython_parameters,\n\u001b[1;32m    290\u001b[0m         \u001b[39mself\u001b[39m\u001b[39m.\u001b[39mgateway_property, \u001b[39mself\u001b[39m)\n\u001b[0;32m--> 291\u001b[0m     connection\u001b[39m.\u001b[39;49mconnect_to_java_server()\n\u001b[1;32m    292\u001b[0m     \u001b[39mself\u001b[39m\u001b[39m.\u001b[39mset_thread_connection(connection)\n\u001b[1;32m    293\u001b[0m     \u001b[39mreturn\u001b[39;00m connection\n",
      "File \u001b[0;32m~/.venv/lib/python3.10/site-packages/py4j/clientserver.py:438\u001b[0m, in \u001b[0;36mClientServerConnection.connect_to_java_server\u001b[0;34m(self)\u001b[0m\n\u001b[1;32m    435\u001b[0m \u001b[39mif\u001b[39;00m \u001b[39mself\u001b[39m\u001b[39m.\u001b[39mssl_context:\n\u001b[1;32m    436\u001b[0m     \u001b[39mself\u001b[39m\u001b[39m.\u001b[39msocket \u001b[39m=\u001b[39m \u001b[39mself\u001b[39m\u001b[39m.\u001b[39mssl_context\u001b[39m.\u001b[39mwrap_socket(\n\u001b[1;32m    437\u001b[0m         \u001b[39mself\u001b[39m\u001b[39m.\u001b[39msocket, server_hostname\u001b[39m=\u001b[39m\u001b[39mself\u001b[39m\u001b[39m.\u001b[39mjava_address)\n\u001b[0;32m--> 438\u001b[0m \u001b[39mself\u001b[39;49m\u001b[39m.\u001b[39;49msocket\u001b[39m.\u001b[39;49mconnect((\u001b[39mself\u001b[39;49m\u001b[39m.\u001b[39;49mjava_address, \u001b[39mself\u001b[39;49m\u001b[39m.\u001b[39;49mjava_port))\n\u001b[1;32m    439\u001b[0m \u001b[39mself\u001b[39m\u001b[39m.\u001b[39mstream \u001b[39m=\u001b[39m \u001b[39mself\u001b[39m\u001b[39m.\u001b[39msocket\u001b[39m.\u001b[39mmakefile(\u001b[39m\"\u001b[39m\u001b[39mrb\u001b[39m\u001b[39m\"\u001b[39m)\n\u001b[1;32m    440\u001b[0m \u001b[39mself\u001b[39m\u001b[39m.\u001b[39mis_connected \u001b[39m=\u001b[39m \u001b[39mTrue\u001b[39;00m\n",
      "\u001b[0;31mConnectionRefusedError\u001b[0m: [Errno 111] Connection refused"
     ]
    }
   ],
   "source": [
    "from pyspark.sql.functions import col,isnan, when, count\n",
    "df.select([count(when(isnan(c) | col(c).isNull(), c)).alias(c) for c in df.columns]\n",
    "   ).show()"
   ]
  }
 ],
 "metadata": {
  "kernelspec": {
   "display_name": "Python 3.10.6 ('.venv')",
   "language": "python",
   "name": "python3"
  },
  "language_info": {
   "codemirror_mode": {
    "name": "ipython",
    "version": 3
   },
   "file_extension": ".py",
   "mimetype": "text/x-python",
   "name": "python",
   "nbconvert_exporter": "python",
   "pygments_lexer": "ipython3",
   "version": "3.10.6"
  },
  "orig_nbformat": 4,
  "vscode": {
   "interpreter": {
    "hash": "9b14115a00b249a2d4e2f250c033f6ec180e6b04ccb8e62b98e94c68205687e8"
   }
  }
 },
 "nbformat": 4,
 "nbformat_minor": 2
}
